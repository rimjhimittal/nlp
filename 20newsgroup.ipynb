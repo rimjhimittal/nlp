{
  "nbformat": 4,
  "nbformat_minor": 0,
  "metadata": {
    "colab": {
      "provenance": []
    },
    "kernelspec": {
      "name": "python3",
      "display_name": "Python 3"
    },
    "language_info": {
      "name": "python"
    }
  },
  "cells": [
    {
      "cell_type": "markdown",
      "source": [
        "###Develop a text classification model using Natural Language Processing (NLP) techniques to categorize newsgroup documents into predefined topics. The goal is to create an efficient pipeline integrating TF-IDF vectorization, Multinomial Naive Bayes classification, and stopword removal for accurate and interpretable document classification. The success of the model will be assessed using standard NLP classification metrics on both training and test sets."
      ],
      "metadata": {
        "id": "g7rPwSW6sLDo"
      }
    },
    {
      "cell_type": "code",
      "source": [
        "from sklearn.datasets import fetch_20newsgroups\n",
        "from sklearn.naive_bayes import MultinomialNB\n",
        "from sklearn.feature_extraction.text import TfidfVectorizer\n",
        "from sklearn.feature_extraction.text import CountVectorizer\n",
        "from sklearn.pipeline import make_pipeline\n",
        "from nltk.corpus import stopwords\n",
        "import seaborn as sns\n",
        "import matplotlib.pyplot as plt\n",
        "import numpy as np\n",
        "import pandas as pd\n",
        "import nltk\n",
        "import spacy\n",
        "nltk.download('stopwords')"
      ],
      "metadata": {
        "colab": {
          "base_uri": "https://localhost:8080/"
        },
        "id": "WDew-yR1w4Za",
        "outputId": "53ec537e-0e17-4fb4-f557-c3a962697ddc"
      },
      "execution_count": 28,
      "outputs": [
        {
          "output_type": "stream",
          "name": "stderr",
          "text": [
            "[nltk_data] Downloading package stopwords to /root/nltk_data...\n",
            "[nltk_data]   Package stopwords is already up-to-date!\n"
          ]
        },
        {
          "output_type": "execute_result",
          "data": {
            "text/plain": [
              "True"
            ]
          },
          "metadata": {},
          "execution_count": 28
        }
      ]
    },
    {
      "cell_type": "code",
      "source": [
        "data = fetch_20newsgroups()"
      ],
      "metadata": {
        "id": "EysgBmDEzleg"
      },
      "execution_count": 29,
      "outputs": []
    },
    {
      "cell_type": "code",
      "source": [
        "text_categories = data.target_names\n",
        "print(text_categories)"
      ],
      "metadata": {
        "colab": {
          "base_uri": "https://localhost:8080/"
        },
        "id": "_6lOUioaw80V",
        "outputId": "f2fa6fab-3b8c-4907-cfb1-dc34c965ae6b"
      },
      "execution_count": 30,
      "outputs": [
        {
          "output_type": "stream",
          "name": "stdout",
          "text": [
            "['alt.atheism', 'comp.graphics', 'comp.os.ms-windows.misc', 'comp.sys.ibm.pc.hardware', 'comp.sys.mac.hardware', 'comp.windows.x', 'misc.forsale', 'rec.autos', 'rec.motorcycles', 'rec.sport.baseball', 'rec.sport.hockey', 'sci.crypt', 'sci.electronics', 'sci.med', 'sci.space', 'soc.religion.christian', 'talk.politics.guns', 'talk.politics.mideast', 'talk.politics.misc', 'talk.religion.misc']\n"
          ]
        }
      ]
    },
    {
      "cell_type": "markdown",
      "source": [
        "## Training the model without any text preprocessing: Accuracy- 77.39%"
      ],
      "metadata": {
        "id": "Kj5HHzYytM-q"
      }
    },
    {
      "cell_type": "code",
      "source": [
        "train_data = fetch_20newsgroups(subset = \"train\", categories = text_categories)\n",
        "test_data = fetch_20newsgroups(subset = \"test\", categories = text_categories)"
      ],
      "metadata": {
        "id": "hD4X3duuxH4T"
      },
      "execution_count": 31,
      "outputs": []
    },
    {
      "cell_type": "code",
      "source": [
        "model = make_pipeline(TfidfVectorizer(), MultinomialNB()) #you can add any preprocessing function also if made and add in the pipeline"
      ],
      "metadata": {
        "id": "qj-qw8xr0Dhg"
      },
      "execution_count": 32,
      "outputs": []
    },
    {
      "cell_type": "code",
      "source": [
        "model.fit(train_data.data, train_data.target)\n",
        "predicted_categories = model.predict(test_data.data)"
      ],
      "metadata": {
        "id": "tQFkthgT1C5x"
      },
      "execution_count": 33,
      "outputs": []
    },
    {
      "cell_type": "code",
      "source": [
        "from sklearn import metrics\n",
        "accuracy = metrics.accuracy_score(test_data.target, predicted_categories)\n",
        "precision = metrics.precision_score(test_data.target, predicted_categories, average='weighted')\n",
        "recall = metrics.recall_score(test_data.target, predicted_categories, average='weighted')\n",
        "f1_score = metrics.f1_score(test_data.target, predicted_categories, average='weighted')\n",
        "\n",
        "print(f\"Accuracy: {accuracy:.2%}\")\n",
        "print(f\"Precision: {precision:.2%}\")\n",
        "print(f\"Recall: {recall:.2%}\")\n",
        "print(f\"F1 Score: {f1_score:.2%}\")"
      ],
      "metadata": {
        "colab": {
          "base_uri": "https://localhost:8080/"
        },
        "id": "rgFVlOF71e3o",
        "outputId": "bb98a542-80ca-4006-d412-9639eefc2b1f"
      },
      "execution_count": 34,
      "outputs": [
        {
          "output_type": "stream",
          "name": "stdout",
          "text": [
            "Accuracy: 77.39%\n",
            "Precision: 82.19%\n",
            "Recall: 77.39%\n",
            "F1 Score: 76.84%\n"
          ]
        }
      ]
    },
    {
      "cell_type": "markdown",
      "source": [
        "## Training the model after stopword removal using NLTK: Accuracy- 80.62%"
      ],
      "metadata": {
        "id": "eAyvqTYfth0g"
      }
    },
    {
      "cell_type": "code",
      "source": [
        "stopwords=stopwords.words('english')\n",
        "def stopwordf(text):\n",
        "  lst=[]\n",
        "  for token in text.split():\n",
        "      if token.lower() not in stopwords:\n",
        "          lst.append(token)\n",
        "  return ' '.join(lst)\n",
        "\n",
        "\n",
        "train_data_processed = [stopwordf(text) for text in train_data.data]\n",
        "test_data_processed = [stopwordf(text) for text in test_data.data]"
      ],
      "metadata": {
        "id": "OyuJud3L2rDX"
      },
      "execution_count": 35,
      "outputs": []
    },
    {
      "cell_type": "code",
      "source": [
        "# print(\"Number of training examples :{}\".format(len(train_data)))"
      ],
      "metadata": {
        "id": "LGNP9_vk0Wod"
      },
      "execution_count": 36,
      "outputs": []
    },
    {
      "cell_type": "code",
      "source": [
        "model.fit(train_data_processed, train_data.target)\n",
        "predicted_categories_processed = model.predict(test_data.data)\n",
        "\n",
        "accuracy = metrics.accuracy_score(test_data.target, predicted_categories_processed)\n",
        "precision = metrics.precision_score(test_data.target, predicted_categories_processed, average='weighted')\n",
        "recall = metrics.recall_score(test_data.target, predicted_categories_processed, average='weighted')\n",
        "f1_score = metrics.f1_score(test_data.target, predicted_categories_processed, average='weighted')\n",
        "\n",
        "print(f\"Accuracy: {accuracy:.2%}\")\n",
        "print(f\"Precision: {precision:.2%}\")\n",
        "print(f\"Recall: {recall:.2%}\")\n",
        "print(f\"F1 Score: {f1_score:.2%}\")\n",
        "# model = make_pipeline(TfidfVectorizer(preprocessor=stopwordf), MultinomialNB())\n",
        "model = make_pipeline(stopwordf, TfidfVectorizer, MultinomialNB())\n"
      ],
      "metadata": {
        "colab": {
          "base_uri": "https://localhost:8080/"
        },
        "id": "m0pv-4VskswS",
        "outputId": "abcd3b0a-7629-401d-e905-4304da1bb37f"
      },
      "execution_count": 37,
      "outputs": [
        {
          "output_type": "stream",
          "name": "stdout",
          "text": [
            "Accuracy: 75.33%\n",
            "Precision: 81.08%\n",
            "Recall: 75.33%\n",
            "F1 Score: 74.71%\n"
          ]
        }
      ]
    },
    {
      "cell_type": "markdown",
      "source": [
        "## Training the model after stopword removal using Spacy: Accuracy- 81.36%"
      ],
      "metadata": {
        "id": "j4L33532uDxO"
      }
    },
    {
      "cell_type": "code",
      "source": [
        "#using spacy\n",
        "spacyStopwords = spacy.load('en_core_web_sm')\n",
        "stopwords = spacyStopwords.Defaults.stop_words\n",
        "def stopwordf2(text):\n",
        "  lst=[]\n",
        "  for token in text.split():\n",
        "      if token.lower() not in stopwords:\n",
        "          lst.append(token)\n",
        "  return ' '.join(lst)\n",
        "\n",
        "train_data_processed2 = [stopwordf2(text) for text in train_data.data]\n",
        "test_data_processed2 = [stopwordf2(text) for text in test_data.data]"
      ],
      "metadata": {
        "id": "4sWqjHVzks4W"
      },
      "execution_count": 38,
      "outputs": []
    },
    {
      "cell_type": "code",
      "source": [
        "model = make_pipeline(TfidfVectorizer(), MultinomialNB())\n",
        "model.fit(train_data_processed2, train_data.target)\n",
        "predicted_categories_processed2 = model.predict(test_data_processed2)\n",
        "\n",
        "accuracy = metrics.accuracy_score(test_data.target, predicted_categories_processed2)\n",
        "precision = metrics.precision_score(test_data.target, predicted_categories_processed2, average='weighted')\n",
        "recall = metrics.recall_score(test_data.target, predicted_categories_processed2, average='weighted')\n",
        "f1_score = metrics.f1_score(test_data.target, predicted_categories_processed2, average='weighted')\n",
        "\n",
        "print(f\"Accuracy: {accuracy:.2%}\")\n",
        "print(f\"Precision: {precision:.2%}\")\n",
        "print(f\"Recall: {recall:.2%}\")\n",
        "print(f\"F1 Score: {f1_score:.2%}\")\n"
      ],
      "metadata": {
        "colab": {
          "base_uri": "https://localhost:8080/"
        },
        "id": "8whrC-71u8jC",
        "outputId": "8382ef32-f0ba-496e-d937-003c60dbf22b"
      },
      "execution_count": 39,
      "outputs": [
        {
          "output_type": "stream",
          "name": "stdout",
          "text": [
            "Accuracy: 81.36%\n",
            "Precision: 83.20%\n",
            "Recall: 81.36%\n",
            "F1 Score: 80.63%\n"
          ]
        }
      ]
    },
    {
      "cell_type": "markdown",
      "source": [
        "## Training the model after Lemmatization on Spacy-Stopword Data: Accuracy- 74.88%"
      ],
      "metadata": {
        "id": "QHc3iUfwwn-z"
      }
    },
    {
      "cell_type": "code",
      "source": [
        "#Lemmatization Using Spacy\n",
        "def spacyLemma(text):\n",
        "  doc = spacyStopwords(text)\n",
        "  lemmatized_tokens = [token.lemma_ for token in doc]\n",
        "  return ' '.join(lemmatized_tokens)\n",
        "#There is no stemming method in Spacy\n",
        "\n",
        "train_data_processed3 = [spacyLemma(text) for text in train_data_processed2].lower()\n",
        "test_data_processed3 = [spacyLemma(text) for text in test_data.data]\n"
      ],
      "metadata": {
        "id": "2qhaotkN7Wjm"
      },
      "execution_count": null,
      "outputs": []
    },
    {
      "cell_type": "code",
      "source": [
        "model = make_pipeline(TfidfVectorizer(), MultinomialNB())\n",
        "model.fit(train_data_processed3, train_data.target)\n",
        "predicted_categories_processed3 = model.predict(test_data_processed3)\n",
        "\n",
        "accuracy = metrics.accuracy_score(test_data.target, predicted_categories_processed3)\n",
        "precision = metrics.precision_score(test_data.target, predicted_categories_processed3, average='weighted')\n",
        "recall = metrics.recall_score(test_data.target, predicted_categories_processed3, average='weighted')\n",
        "f1_score = metrics.f1_score(test_data.target, predicted_categories_processed3, average='weighted')\n",
        "\n",
        "print(f\"Accuracy: {accuracy:.2%}\")\n",
        "print(f\"Precision: {precision:.2%}\")\n",
        "print(f\"Recall: {recall:.2%}\")\n",
        "print(f\"F1 Score: {f1_score:.2%}\")\n"
      ],
      "metadata": {
        "colab": {
          "base_uri": "https://localhost:8080/"
        },
        "id": "a7J2SHxawr7Z",
        "outputId": "6ab2db96-76b3-4c24-9225-16c51fba4fb5"
      },
      "execution_count": 41,
      "outputs": [
        {
          "output_type": "stream",
          "name": "stdout",
          "text": [
            "Accuracy: 74.88%\n",
            "Precision: 80.88%\n",
            "Recall: 74.88%\n",
            "F1 Score: 74.19%\n"
          ]
        }
      ]
    },
    {
      "cell_type": "code",
      "source": [
        "# cm = metrics.confusion_matrix(test_data.target, predicted_categories)\n",
        "# plt.figure(figsize=(8, 6))\n",
        "# sns.heatmap(cm, annot=True, fmt='d', cmap='Blues', xticklabels=train_data.target_names, yticklabels=train_data.target_names)\n",
        "# plt.xlabel('Predicted')\n",
        "# plt.ylabel('True')\n",
        "# plt.show()\n"
      ],
      "metadata": {
        "id": "9-RPJsSk1sFd"
      },
      "execution_count": 43,
      "outputs": []
    },
    {
      "cell_type": "markdown",
      "source": [
        "##N-grams also reduces accuracy - 80.43%"
      ],
      "metadata": {
        "id": "qF9GIXqm6yps"
      }
    },
    {
      "cell_type": "code",
      "source": [
        "model = make_pipeline(TfidfVectorizer(ngram_range=(1, 2)), MultinomialNB())\n",
        "model.fit(train_data_processed2, train_data.target)\n",
        "predicted_categories_processed2 = model.predict(test_data_processed2)\n",
        "\n",
        "accuracy = metrics.accuracy_score(test_data.target, predicted_categories_processed2)\n",
        "precision = metrics.precision_score(test_data.target, predicted_categories_processed2, average='weighted')\n",
        "recall = metrics.recall_score(test_data.target, predicted_categories_processed2, average='weighted')\n",
        "f1_score = metrics.f1_score(test_data.target, predicted_categories_processed2, average='weighted')\n",
        "\n",
        "print(f\"Accuracy: {accuracy:.2%}\")\n",
        "print(f\"Precision: {precision:.2%}\")\n",
        "print(f\"Recall: {recall:.2%}\")\n",
        "print(f\"F1 Score: {f1_score:.2%}\")\n"
      ],
      "metadata": {
        "colab": {
          "base_uri": "https://localhost:8080/"
        },
        "id": "iP2qo5K31z73",
        "outputId": "da10e7ad-7197-4277-bf28-a8119b28a187"
      },
      "execution_count": 47,
      "outputs": [
        {
          "output_type": "stream",
          "name": "stdout",
          "text": [
            "Accuracy: 80.43%\n",
            "Precision: 81.61%\n",
            "Recall: 80.43%\n",
            "F1 Score: 79.79%\n"
          ]
        }
      ]
    },
    {
      "cell_type": "code",
      "source": [
        "model = make_pipeline(TfidfVectorizer(ngram_range=(1, 5)), MultinomialNB())\n",
        "model.fit(train_data_processed2, train_data.target)\n",
        "predicted_categories_processed2 = model.predict(test_data_processed2)\n",
        "\n",
        "accuracy = metrics.accuracy_score(test_data.target, predicted_categories_processed2)\n",
        "precision = metrics.precision_score(test_data.target, predicted_categories_processed2, average='weighted')\n",
        "recall = metrics.recall_score(test_data.target, predicted_categories_processed2, average='weighted')\n",
        "f1_score = metrics.f1_score(test_data.target, predicted_categories_processed2, average='weighted')\n",
        "\n",
        "print(f\"Accuracy: {accuracy:.2%}\")\n",
        "print(f\"Precision: {precision:.2%}\")\n",
        "print(f\"Recall: {recall:.2%}\")\n",
        "print(f\"F1 Score: {f1_score:.2%}\")\n"
      ],
      "metadata": {
        "colab": {
          "base_uri": "https://localhost:8080/"
        },
        "id": "PuWs5Se-4fMl",
        "outputId": "beb085b1-86ae-44bd-b7df-95ee5d994291"
      },
      "execution_count": 48,
      "outputs": [
        {
          "output_type": "stream",
          "name": "stdout",
          "text": [
            "Accuracy: 78.73%\n",
            "Precision: 79.35%\n",
            "Recall: 78.73%\n",
            "F1 Score: 78.15%\n"
          ]
        }
      ]
    },
    {
      "cell_type": "code",
      "source": [
        "summary_table = pd.DataFrame({\n",
        "    'Method': ['No Pre-Processing', 'stopword removal using NLTK', 'stopword removal using Spacy', 'Lemmatization', 'n-grams' ],\n",
        "    'Accuracy': ['77.39%', '80.62%', '81.36%', '74.88%', '80.43%' ]})\n",
        "\n",
        "# Display the summary table\n",
        "print(summary_table)"
      ],
      "metadata": {
        "colab": {
          "base_uri": "https://localhost:8080/"
        },
        "id": "NXCRBBDd6_Ep",
        "outputId": "c62bddcb-3227-4400-9009-307bae54ac1a"
      },
      "execution_count": 51,
      "outputs": [
        {
          "output_type": "stream",
          "name": "stdout",
          "text": [
            "                         Method Accuracy\n",
            "0             No Pre-Processing   77.39%\n",
            "1   stopword removal using NLTK   80.62%\n",
            "2  stopword removal using Spacy   81.36%\n",
            "3                 Lemmatization   74.88%\n",
            "4                       n-grams   80.43%\n"
          ]
        }
      ]
    },
    {
      "cell_type": "code",
      "source": [],
      "metadata": {
        "id": "7lZ8Hkdl77rY"
      },
      "execution_count": null,
      "outputs": []
    }
  ]
}