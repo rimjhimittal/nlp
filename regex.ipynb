{
 "cells": [
  {
   "cell_type": "code",
   "execution_count": 47,
   "id": "f3fc966e-6808-4516-8b57-6309cc6b41f6",
   "metadata": {},
   "outputs": [],
   "source": [
    "import re"
   ]
  },
  {
   "cell_type": "code",
   "execution_count": 48,
   "id": "e5e22d7b-8598-446f-adb6-97de33c74c29",
   "metadata": {},
   "outputs": [],
   "source": [
    "chat1= '[2:15 pm, 13/01/2024] Komal Dua Co7: kya mann hai?'\n",
    "chat2='[2:15 pm, 13/01/2024] Rimjhim Mittal: kal chal lete h morning?'\n",
    "chat3='[2:15 pm, 13/01/2024] Komal Dua Co7: yes inn'\n",
    "chat4='[2:15 pm, 13/01/2024] Rimjhim Mittal: done'\n",
    "chat5='[2:18 pm, 13/01/2024] Komal Dua Co7: kitne bje chalein?'\n",
    "chat6='[2:18 pm, 13/01/2024] Rimjhim Mittal: 10:00 -11?'\n",
    "chat7='[2:18 pm, 13/01/2024] Rimjhim Mittal: 10:00 you tell'\n",
    "chat8='[2:20 pm, 13/01/2024] Komal Dua Co7: haan works works'"
   ]
  },
  {
   "cell_type": "code",
   "execution_count": 49,
   "id": "179a60bc-1460-4928-b132-346ecac59fc6",
   "metadata": {},
   "outputs": [
    {
     "name": "stderr",
     "output_type": "stream",
     "text": [
      "<>:1: SyntaxWarning: invalid escape sequence '\\d'\n",
      "<>:1: SyntaxWarning: invalid escape sequence '\\d'\n",
      "<>:1: SyntaxWarning: invalid escape sequence '\\d'\n",
      "<>:1: SyntaxWarning: invalid escape sequence '\\d'\n",
      "/var/folders/jr/2p7bb8dd1_d99q3db5hr_rjm0000gn/T/ipykernel_99670/2018165254.py:1: SyntaxWarning: invalid escape sequence '\\d'\n",
      "  patterns = [\"\\d{1,2}(?:\\:\\d{2})\",'\\d{1,2}(?:\\/\\d{2}\\/\\d{4})']\n",
      "/var/folders/jr/2p7bb8dd1_d99q3db5hr_rjm0000gn/T/ipykernel_99670/2018165254.py:1: SyntaxWarning: invalid escape sequence '\\d'\n",
      "  patterns = [\"\\d{1,2}(?:\\:\\d{2})\",'\\d{1,2}(?:\\/\\d{2}\\/\\d{4})']\n"
     ]
    }
   ],
   "source": [
    "patterns = [\"\\d{1,2}(?:\\:\\d{2})\",'\\d{1,2}(?:\\/\\d{2}\\/\\d{4})'] "
   ]
  },
  {
   "cell_type": "code",
   "execution_count": 50,
   "id": "5f76f48e-8587-4c77-8773-3596f8d57e18",
   "metadata": {},
   "outputs": [
    {
     "name": "stdout",
     "output_type": "stream",
     "text": [
      "['2:15']\n",
      "['13/01/2024']\n",
      "['2:15']\n",
      "['13/01/2024']\n",
      "['2:15']\n",
      "['13/01/2024']\n",
      "['2:15']\n",
      "['13/01/2024']\n",
      "['2:18']\n",
      "['13/01/2024']\n",
      "['2:18', '10:00']\n",
      "['13/01/2024']\n",
      "['2:18', '10:00']\n",
      "['13/01/2024']\n",
      "['2:20']\n",
      "['13/01/2024']\n"
     ]
    }
   ],
   "source": [
    "for i in range(1,9):\n",
    "    for pattern in patterns:\n",
    "        if pattern == 0\n",
    "        matches = re.findall(pattern, globals()[f\"chat{i}\"])\n",
    "        print(matches)"
   ]
  },
  {
   "cell_type": "code",
   "execution_count": 54,
   "id": "0d2918c2-7c33-44b1-8ad2-013219428b08",
   "metadata": {},
   "outputs": [],
   "source": [
    "text='''\n",
    "Born\tElon Reeve Musk\n",
    "June 28, 1971 (age 50)\n",
    "Pretoria, Transvaal, South Africa\n",
    "Citizenship\t\n",
    "South Africa (1971–present)\n",
    "Canada (1971–present)\n",
    "United States (2002–present)\n",
    "Education\tUniversity of Pennsylvania (BS, BA)\n",
    "Title\t\n",
    "Founder, CEO and Chief Engineer of SpaceX\n",
    "CEO and product architect of Tesla, Inc.\n",
    "Founder of The Boring Company and X.com (now part of PayPal)\n",
    "Co-founder of Neuralink, OpenAI, and Zip2\n",
    "Spouse(s)\t\n",
    "Justine Wilson\n",
    "​\n",
    "​(m. 2000; div. 2008)​\n",
    "Talulah Riley\n",
    "​\n",
    "​(m. 2010; div. 2012)​\n",
    "​\n",
    "​(m. 2013; div. 2016)\n",
    "'''"
   ]
  },
  {
   "cell_type": "code",
   "execution_count": 55,
   "id": "0912160e-d07e-47ff-8fe4-ad5bc1d7f5a1",
   "metadata": {},
   "outputs": [],
   "source": [
    "def get_pattern_match(pattern, text):\n",
    "    matches = re.findall(pattern, text)\n",
    "    if matches:\n",
    "        return matches[0]"
   ]
  },
  {
   "cell_type": "code",
   "execution_count": 56,
   "id": "cb1ec614-6f45-4925-ae0f-52c1761ceec4",
   "metadata": {},
   "outputs": [
    {
     "name": "stderr",
     "output_type": "stream",
     "text": [
      "<>:2: SyntaxWarning: invalid escape sequence '\\d'\n",
      "<>:4: SyntaxWarning: invalid escape sequence '\\('\n",
      "<>:5: SyntaxWarning: invalid escape sequence '\\('\n",
      "<>:2: SyntaxWarning: invalid escape sequence '\\d'\n",
      "<>:4: SyntaxWarning: invalid escape sequence '\\('\n",
      "<>:5: SyntaxWarning: invalid escape sequence '\\('\n",
      "/var/folders/jr/2p7bb8dd1_d99q3db5hr_rjm0000gn/T/ipykernel_99670/3783779278.py:2: SyntaxWarning: invalid escape sequence '\\d'\n",
      "  age = get_pattern_match('age (\\d+)', text)\n",
      "/var/folders/jr/2p7bb8dd1_d99q3db5hr_rjm0000gn/T/ipykernel_99670/3783779278.py:4: SyntaxWarning: invalid escape sequence '\\('\n",
      "  birth_date = get_pattern_match('Born.*\\n(.*)\\(age', text)\n",
      "/var/folders/jr/2p7bb8dd1_d99q3db5hr_rjm0000gn/T/ipykernel_99670/3783779278.py:5: SyntaxWarning: invalid escape sequence '\\('\n",
      "  birth_place = get_pattern_match('\\(age.*\\n(.*)', text)\n"
     ]
    }
   ],
   "source": [
    "def extract_personal_information(text):\n",
    "    age = get_pattern_match('age (\\d+)', text)\n",
    "    full_name = get_pattern_match('Born(.*)\\n', text)\n",
    "    birth_date = get_pattern_match('Born.*\\n(.*)\\(age', text)\n",
    "    birth_place = get_pattern_match('\\(age.*\\n(.*)', text)\n",
    "    return {\n",
    "        'age': int(age),\n",
    "        'name': full_name.strip(),\n",
    "        'birth_date': birth_date.strip(),\n",
    "        'birth_place': birth_place.strip()\n",
    "    }"
   ]
  },
  {
   "cell_type": "code",
   "execution_count": 57,
   "id": "5e3694a3-b812-45ad-abc6-82b9be323cb1",
   "metadata": {},
   "outputs": [
    {
     "data": {
      "text/plain": [
       "{'age': 50,\n",
       " 'name': 'Elon Reeve Musk',\n",
       " 'birth_date': 'June 28, 1971',\n",
       " 'birth_place': 'Pretoria, Transvaal, South Africa'}"
      ]
     },
     "execution_count": 57,
     "metadata": {},
     "output_type": "execute_result"
    }
   ],
   "source": [
    "extract_personal_information(text)"
   ]
  },
  {
   "cell_type": "code",
   "execution_count": null,
   "id": "67253b75-1d42-44e4-b30c-826d1d3bd79b",
   "metadata": {},
   "outputs": [],
   "source": []
  }
 ],
 "metadata": {
  "kernelspec": {
   "display_name": "Python 3 (ipykernel)",
   "language": "python",
   "name": "python3"
  },
  "language_info": {
   "codemirror_mode": {
    "name": "ipython",
    "version": 3
   },
   "file_extension": ".py",
   "mimetype": "text/x-python",
   "name": "python",
   "nbconvert_exporter": "python",
   "pygments_lexer": "ipython3",
   "version": "3.12.1"
  }
 },
 "nbformat": 4,
 "nbformat_minor": 5
}
